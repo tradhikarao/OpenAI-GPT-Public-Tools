{
 "cells": [
  {
   "cell_type": "code",
   "execution_count": null,
   "id": "990e254f-0809-4ca7-95cd-fd7da236d98b",
   "metadata": {},
   "outputs": [],
   "source": [
    "## Simple Chat Completions API Usage"
   ]
  },
  {
   "cell_type": "code",
   "execution_count": 25,
   "id": "67840e55-5475-415d-978e-3e3c0bca3cee",
   "metadata": {},
   "outputs": [
    {
     "name": "stdout",
     "output_type": "stream",
     "text": [
      "\"Uggs: Because your toes deserve a hug too!\"\n"
     ]
    }
   ],
   "source": [
    "#Library for accessing operation system functionality - environment variables here\n",
    "import os\n",
    "#Library used to load environment variables\n",
    "from dotenv import load_dotenv\n",
    "#OpenAI library\n",
    "from openai import OpenAI\n",
    "\n",
    "#Load environment variables from .env file\n",
    "load_dotenv()\n",
    "#Access OpenAI's API Key stored in the .env file which is in the root folder\n",
    "API_KEY = os.getenv('API_KEY')\n",
    "\n",
    "#Set default values \n",
    "DEFAULT_MODEL = 'gpt-4o'\n",
    "DEFAULT_TEMPERATURE = 0.9\n",
    "\n",
    "#Initialize OpenAI client\n",
    "client = OpenAI(api_key=API_KEY)\n",
    "#Set the model context and behavior with the system role \n",
    "messages = [{'role':'system','content':'You are an experienced social media marketing analyst.'}]\n",
    "#Pass the user task with the user role \n",
    "messages.append({'role':'user','content':'Create a short, funny tagline for the Uggs shoe brand.'})\n",
    "#Invoke the Create method by passing the messages and model \n",
    "response = client.chat.completions.create(messages=messages,model=DEFAULT_MODEL)\n",
    "#Get the model response \n",
    "print(response.choices[0].message.content)"
   ]
  },
  {
   "cell_type": "markdown",
   "id": "2cfcff1e-c4aa-4b96-96e9-4e699dc95f8a",
   "metadata": {},
   "source": []
  }
 ],
 "metadata": {
  "kernelspec": {
   "display_name": "Python [conda env:base] *",
   "language": "python",
   "name": "conda-base-py"
  },
  "language_info": {
   "codemirror_mode": {
    "name": "ipython",
    "version": 3
   },
   "file_extension": ".py",
   "mimetype": "text/x-python",
   "name": "python",
   "nbconvert_exporter": "python",
   "pygments_lexer": "ipython3",
   "version": "3.12.7"
  }
 },
 "nbformat": 4,
 "nbformat_minor": 5
}
